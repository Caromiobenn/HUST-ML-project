{
 "cells": [
  {
   "cell_type": "code",
   "execution_count": 1,
   "metadata": {},
   "outputs": [],
   "source": [
    "import numpy as np\n",
    "import pandas as pd\n",
    "from sklearn.model_selection import train_test_split\n",
    "from sklearn.svm import SVC\n",
    "from sklearn import metrics\n",
    "from sklearn.metrics import confusion_matrix\n",
    "import matplotlib.pyplot as plt"
   ]
  },
  {
   "cell_type": "code",
   "execution_count": 3,
   "metadata": {},
   "outputs": [],
   "source": [
    "#加载数据\n",
    "train_data = pd.read_csv(\"train.csv\")\n",
    "test_data = pd.read_csv(\"test.csv\")"
   ]
  },
  {
   "cell_type": "code",
   "execution_count": 4,
   "metadata": {},
   "outputs": [
    {
     "name": "stdout",
     "output_type": "stream",
     "text": [
      "(42000, 785)\n"
     ]
    }
   ],
   "source": [
    "#分离X和y变量\n",
    "y = train_data['label']\n",
    "X = train_data.drop(columns = 'label')\n",
    "print(train_data.shape)"
   ]
  },
  {
   "cell_type": "code",
   "execution_count": 5,
   "metadata": {},
   "outputs": [
    {
     "name": "stdout",
     "output_type": "stream",
     "text": [
      "X: (42000, 784)\n"
     ]
    }
   ],
   "source": [
    "#归一化\n",
    "X = X/255.0\n",
    "test_data = test_data/255.0\n",
    "\n",
    "print(\"X:\", X.shape)"
   ]
  },
  {
   "cell_type": "code",
   "execution_count": 6,
   "metadata": {},
   "outputs": [],
   "source": [
    "# 特征缩放\n",
    "from sklearn.preprocessing import scale\n",
    "X_scaled = scale(X)\n",
    "\n",
    "# 划分训练集和验证集\n",
    "X_train, X_test, y_train, y_test = train_test_split(X_scaled, y, test_size = 0.2 ,random_state = 10)"
   ]
  },
  {
   "cell_type": "code",
   "execution_count": 59,
   "metadata": {},
   "outputs": [],
   "source": [
    "import numpy as np\n",
    "import pandas as pd\n",
    "#自行定义的线性SVM类\n",
    "class LinearSVM:\n",
    "    def __init__(self, learning_rate=0.01, num_epochs=1000, C=1.0):\n",
    "        self.learning_rate = learning_rate\n",
    "        self.num_epochs = num_epochs\n",
    "        self.C = C\n",
    "\n",
    "    def fit(self, X, y):\n",
    "        X = X.values if isinstance(X, pd.DataFrame) else X\n",
    "        y = y.values if isinstance(y, pd.Series) else y\n",
    "        \n",
    "        self.classes = np.unique(y)\n",
    "        self.classifiers = {}\n",
    "        \n",
    "        # Train one classifier for each class\n",
    "        for c in self.classes:\n",
    "            y_binary = np.where(y == c, 1, -1)\n",
    "            self.classifiers[c] = self._train_one_vs_rest(X, y_binary)\n",
    "\n",
    "    def _train_one_vs_rest(self, X, y):\n",
    "        w = np.zeros(X.shape[1])\n",
    "        b = 0\n",
    "        \n",
    "        for epoch in range(self.num_epochs):\n",
    "            for i, x in enumerate(X):\n",
    "                if y[i] * (np.dot(x, w) - b) >= 1:\n",
    "                    w -= self.learning_rate * (2 * self.C * w)\n",
    "                else:\n",
    "                    w -= self.learning_rate * (2 * self.C * w - np.dot(x, y[i]))\n",
    "                    b -= self.learning_rate * y[i]\n",
    "        \n",
    "        return w, b\n",
    "\n",
    "    def predict(self, X):\n",
    "        X = X.values if isinstance(X, pd.DataFrame) else X\n",
    "        predictions = []\n",
    "        for x in X:\n",
    "            scores = {c: np.dot(x, self.classifiers[c][0]) - self.classifiers[c][1] for c in self.classes}\n",
    "            prediction = max(scores, key=scores.get)\n",
    "            predictions.append(prediction)\n",
    "        return np.array(predictions)\n"
   ]
  },
  {
   "cell_type": "code",
   "execution_count": 60,
   "metadata": {},
   "outputs": [],
   "source": [
    "# 创建一个LinearSVM对象\n",
    "svm = LinearSVM()\n",
    "\n",
    "# 使用训练集进行训练\n",
    "svm.fit(X_train, y_train)\n",
    "\n",
    "# 使用验证集进行预测\n",
    "y_pred = svm.predict(X_test)\n"
   ]
  },
  {
   "cell_type": "code",
   "execution_count": 64,
   "metadata": {},
   "outputs": [
    {
     "name": "stdout",
     "output_type": "stream",
     "text": [
      "accuracy: 0.6059523809523809 \n",
      "\n",
      "              precision    recall  f1-score   support\n",
      "\n",
      "           0       0.65      0.72      0.69       796\n",
      "           1       0.85      0.70      0.77       946\n",
      "           2       0.63      0.61      0.62       856\n",
      "           3       0.80      0.24      0.37       856\n",
      "           4       0.50      0.52      0.51       826\n",
      "           5       0.41      0.61      0.49       773\n",
      "           6       0.61      0.82      0.70       787\n",
      "           7       0.79      0.72      0.75       869\n",
      "           8       0.51      0.39      0.45       836\n",
      "           9       0.55      0.72      0.62       855\n",
      "\n",
      "    accuracy                           0.61      8400\n",
      "   macro avg       0.63      0.61      0.60      8400\n",
      "weighted avg       0.64      0.61      0.60      8400\n",
      "\n",
      "[[577   0   2  11  13  36 138  10   3   6]\n",
      " [  0 666  93   0   6   3   2   1 174   1]\n",
      " [117  16 522   6  33   5  75  30  30  22]\n",
      " [ 64  20  52 207  10 393  26  19  40  25]\n",
      " [  4  10   6   4 426  11  99  14   8 244]\n",
      " [ 41  18  33  16 131 475  15   8  21  15]\n",
      " [ 15  10  11   0  12  46 644   4  37   8]\n",
      " [ 10   9  21   7 100   1   4 627   1  89]\n",
      " [ 53  16  86   6  11 175  46   9 330 104]\n",
      " [  6  15   3   1 104  25  12  73   0 616]]\n"
     ]
    }
   ],
   "source": [
    "# 精确度、分类报告和混淆矩阵\n",
    "from sklearn import metrics\n",
    "from sklearn.metrics import confusion_matrix,classification_report\n",
    "print(\"accuracy:\", metrics.accuracy_score(y_true=y_test, y_pred=y_pred), \"\\n\")\n",
    "print(classification_report(y_test, y_pred)) \n",
    "print(metrics.confusion_matrix(y_true=y_test, y_pred=y_pred))"
   ]
  },
  {
   "cell_type": "code",
   "execution_count": 7,
   "metadata": {},
   "outputs": [],
   "source": [
    "# 使用sklearn库自带的SVM函数进行训练\n",
    "model_linear = SVC(kernel='rbf')\n",
    "model_linear.fit(X_train, y_train)\n",
    "y_pred = model_linear.predict(X_test)"
   ]
  },
  {
   "cell_type": "code",
   "execution_count": 8,
   "metadata": {},
   "outputs": [
    {
     "name": "stdout",
     "output_type": "stream",
     "text": [
      "accuracy: 0.960952380952381 \n",
      "\n",
      "              precision    recall  f1-score   support\n",
      "\n",
      "           0       0.98      0.98      0.98       796\n",
      "           1       0.98      0.98      0.98       946\n",
      "           2       0.95      0.96      0.96       856\n",
      "           3       0.95      0.95      0.95       856\n",
      "           4       0.97      0.97      0.97       826\n",
      "           5       0.97      0.96      0.96       773\n",
      "           6       0.97      0.97      0.97       787\n",
      "           7       0.91      0.96      0.94       869\n",
      "           8       0.97      0.93      0.95       836\n",
      "           9       0.96      0.94      0.95       855\n",
      "\n",
      "    accuracy                           0.96      8400\n",
      "   macro avg       0.96      0.96      0.96      8400\n",
      "weighted avg       0.96      0.96      0.96      8400\n",
      "\n",
      "[[782   0   2   1   0   1   4   3   3   0]\n",
      " [  0 931   5   3   2   0   1   2   2   0]\n",
      " [  4   2 824   4   3   1   2  12   4   0]\n",
      " [  1   1  13 814   0   7   1  14   5   0]\n",
      " [  1   1   5   0 799   2   5   5   1   7]\n",
      " [  0   1   2  10   2 740   5   5   5   3]\n",
      " [  7   1   2   0   3   5 763   6   0   0]\n",
      " [  2   2   7   1   5   1   0 837   0  14]\n",
      " [  1   8   7  11   4   8   2   6 781   8]\n",
      " [  1   0   1  14   7   1   1  25   4 801]]\n"
     ]
    }
   ],
   "source": [
    "# 精确度、分类报告和混淆矩阵\n",
    "from sklearn import metrics\n",
    "from sklearn.metrics import confusion_matrix,classification_report\n",
    "print(\"accuracy:\", metrics.accuracy_score(y_true=y_test, y_pred=y_pred), \"\\n\")\n",
    "print(classification_report(y_test, y_pred)) \n",
    "print(metrics.confusion_matrix(y_true=y_test, y_pred=y_pred))"
   ]
  }
 ],
 "metadata": {
  "kernelspec": {
   "display_name": "Python 3",
   "language": "python",
   "name": "python3"
  },
  "language_info": {
   "codemirror_mode": {
    "name": "ipython",
    "version": 3
   },
   "file_extension": ".py",
   "mimetype": "text/x-python",
   "name": "python",
   "nbconvert_exporter": "python",
   "pygments_lexer": "ipython3",
   "version": "3.12.2"
  }
 },
 "nbformat": 4,
 "nbformat_minor": 2
}
